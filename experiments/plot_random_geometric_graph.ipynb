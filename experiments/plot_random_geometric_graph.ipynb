{
  "cells": [
    {
      "cell_type": "code",
      "execution_count": null,
      "metadata": {
        "collapsed": false
      },
      "outputs": [],
      "source": [
        "%matplotlib inline"
      ]
    },
    {
      "cell_type": "markdown",
      "metadata": {},
      "source": [
        "\n",
        "# Random Geometric Graph\n",
        "\n",
        "\n",
        "Example\n"
      ]
    },
    {
      "cell_type": "code",
      "execution_count": null,
      "metadata": {
        "collapsed": false
      },
      "outputs": [],
      "source": [
        "import matplotlib.pyplot as plt\n",
        "import networkx as nx\n",
        "\n",
        "gra = nx.random_geometric_graph(200, 0.125)\n",
        "# position is stored as node attribute data for random_geometric_graph\n",
        "pos = nx.get_node_attributes(gra, \"pos\")\n",
        "\n",
        "# find node near center (0.5,0.5)\n",
        "dmin = 1\n",
        "ncenter = 0\n",
        "for n in pos:\n",
        "    x, y = pos[n]\n",
        "    d = (x - 0.5) ** 2 + (y - 0.5) ** 2\n",
        "    if d < dmin:\n",
        "        ncenter = n\n",
        "        dmin = d\n",
        "\n",
        "# color by path length from node near center\n",
        "p = dict(nx.single_source_shortest_path_length(gra, ncenter))\n",
        "\n",
        "plt.figure(figsize=(8, 8))\n",
        "nx.draw_networkx_edges(gra, pos, nodelist=[ncenter], alpha=0.4)\n",
        "nx.draw_networkx_nodes(\n",
        "    gra,\n",
        "    pos,\n",
        "    nodelist=list(p.keys()),\n",
        "    node_size=80,\n",
        "    node_color=list(p.values()),\n",
        "    cmap=plt.cm.Reds_r,\n",
        ")\n",
        "\n",
        "plt.xlim(-0.05, 1.05)\n",
        "plt.ylim(-0.05, 1.05)\n",
        "plt.axis(\"off\")\n",
        "plt.show()"
      ]
    }
  ],
  "metadata": {
    "kernelspec": {
      "display_name": "Python 3",
      "language": "python",
      "name": "python3"
    },
    "language_info": {
      "codemirror_mode": {
        "name": "ipython",
        "version": 3
      },
      "file_extension": ".py",
      "mimetype": "text/x-python",
      "name": "python",
      "nbconvert_exporter": "python",
      "pygments_lexer": "ipython3",
      "version": "3.7.1"
    }
  },
  "nbformat": 4,
  "nbformat_minor": 0
}
